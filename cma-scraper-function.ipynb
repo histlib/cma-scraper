{
 "cells": [
  {
   "cell_type": "code",
   "execution_count": 1,
   "id": "89cd2398",
   "metadata": {},
   "outputs": [],
   "source": [
    "import pandas as pd\n",
    "import requests\n",
    "from bs4 import BeautifulSoup as bs4"
   ]
  },
  {
   "cell_type": "code",
   "execution_count": 41,
   "id": "63ecefd7",
   "metadata": {},
   "outputs": [],
   "source": [
    "def scrape_cma(text):\n",
    "    url = \"https://www.clevelandart.org/art/collection/search?search=\" + str(text)\n",
    "    response = requests.get(url)\n",
    "    html_string = response.text\n",
    "    document = bs4(html_string, \"html.parser\")\n",
    "    \n",
    "    search_results = document.find_all(\"div\", attrs={\"class\": \"search-result grid-item\"})\n",
    "    search_results_artists = document.find_all(\"div\", attrs={\"class\": \"artists\"})\n",
    "    search_results_titles = document.find_all(\"div\", attrs={\"class\": \"artwork-title\"})\n",
    "    search_results_accession = document.find_all(\"span\", attrs={\"class\": \"accession-number\"})\n",
    "    \n",
    "    artist_list =[]\n",
    "    for artist in search_results_artists:\n",
    "        artists_contents = artist.text\n",
    "        artist_list.append(artists_contents)\n",
    "    \n",
    "    title_list = []\n",
    "    for title in search_results_titles:\n",
    "        titles_contents = title.text\n",
    "        title_list.append(titles_contents)\n",
    "    \n",
    "    accession_number = []\n",
    "    for accession in search_results_accession:\n",
    "        accession_content = accession.text\n",
    "        accession_number.append(accession_content)\n",
    "    \n",
    "    item_url = []\n",
    "    for item in accession_number:\n",
    "        item_url.append(\"https://www.clevelandart.org/art/\" + str(item))\n",
    "    \n",
    "    df = pd.DataFrame(list(zip(artist_list,title_list,accession_number,item_url)), columns =[\"Artist\",\"Title\",\"Accession\",\"URL\"])\n",
    "    df.to_csv(\"cma_\"+str(text)+\".csv\")\n",
    "    \n",
    "    return df"
   ]
  },
  {
   "cell_type": "code",
   "execution_count": null,
   "id": "cc451ade",
   "metadata": {},
   "outputs": [],
   "source": [
    "scrape_cma(\"\")"
   ]
  },
  {
   "cell_type": "code",
   "execution_count": null,
   "id": "87d9bb36",
   "metadata": {},
   "outputs": [],
   "source": []
  }
 ],
 "metadata": {
  "kernelspec": {
   "display_name": "Python 3 (ipykernel)",
   "language": "python",
   "name": "python3"
  },
  "language_info": {
   "codemirror_mode": {
    "name": "ipython",
    "version": 3
   },
   "file_extension": ".py",
   "mimetype": "text/x-python",
   "name": "python",
   "nbconvert_exporter": "python",
   "pygments_lexer": "ipython3",
   "version": "3.9.7"
  }
 },
 "nbformat": 4,
 "nbformat_minor": 5
}
